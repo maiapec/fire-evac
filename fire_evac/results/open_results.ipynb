{
 "cells": [
  {
   "cell_type": "code",
   "execution_count": 2,
   "metadata": {},
   "outputs": [],
   "source": [
    "import pandas as pd"
   ]
  },
  {
   "cell_type": "code",
   "execution_count": 10,
   "metadata": {},
   "outputs": [
    {
     "data": {
      "text/html": [
       "<div>\n",
       "<style scoped>\n",
       "    .dataframe tbody tr th:only-of-type {\n",
       "        vertical-align: middle;\n",
       "    }\n",
       "\n",
       "    .dataframe tbody tr th {\n",
       "        vertical-align: top;\n",
       "    }\n",
       "\n",
       "    .dataframe thead th {\n",
       "        text-align: right;\n",
       "    }\n",
       "</style>\n",
       "<table border=\"1\" class=\"dataframe\">\n",
       "  <thead>\n",
       "    <tr style=\"text-align: right;\">\n",
       "      <th></th>\n",
       "      <th>Map</th>\n",
       "      <th>Random</th>\n",
       "      <th>MaxImmediateDistance</th>\n",
       "      <th>MCTS</th>\n",
       "      <th>QLearning</th>\n",
       "      <th>DQN</th>\n",
       "    </tr>\n",
       "  </thead>\n",
       "  <tbody>\n",
       "    <tr>\n",
       "      <th>0</th>\n",
       "      <td>2024-12-06 10:31:09</td>\n",
       "      <td>-801</td>\n",
       "      <td>78.0</td>\n",
       "      <td>-760.0</td>\n",
       "      <td>-760.0</td>\n",
       "      <td>4.0</td>\n",
       "    </tr>\n",
       "    <tr>\n",
       "      <th>1</th>\n",
       "      <td>2024-12-06 10:29:02</td>\n",
       "      <td>-1063</td>\n",
       "      <td>48.0</td>\n",
       "      <td>48.0</td>\n",
       "      <td>48.0</td>\n",
       "      <td>-659.0</td>\n",
       "    </tr>\n",
       "    <tr>\n",
       "      <th>2</th>\n",
       "      <td>2024-12-06 10:35:39</td>\n",
       "      <td>-1164</td>\n",
       "      <td>-1164.0</td>\n",
       "      <td>6.0</td>\n",
       "      <td>-962.0</td>\n",
       "      <td>-1154.0</td>\n",
       "    </tr>\n",
       "    <tr>\n",
       "      <th>3</th>\n",
       "      <td>2024-12-06 10:36:21</td>\n",
       "      <td>48</td>\n",
       "      <td>48.0</td>\n",
       "      <td>48.0</td>\n",
       "      <td>48.0</td>\n",
       "      <td>48.0</td>\n",
       "    </tr>\n",
       "    <tr>\n",
       "      <th>4</th>\n",
       "      <td>2024-12-06 10:31:36</td>\n",
       "      <td>-356</td>\n",
       "      <td>48.0</td>\n",
       "      <td>-457.0</td>\n",
       "      <td>-457.0</td>\n",
       "      <td>-962.0</td>\n",
       "    </tr>\n",
       "    <tr>\n",
       "      <th>...</th>\n",
       "      <td>...</td>\n",
       "      <td>...</td>\n",
       "      <td>...</td>\n",
       "      <td>...</td>\n",
       "      <td>...</td>\n",
       "      <td>...</td>\n",
       "    </tr>\n",
       "    <tr>\n",
       "      <th>495</th>\n",
       "      <td>2024-12-06 10:32:52</td>\n",
       "      <td>-659</td>\n",
       "      <td>48.0</td>\n",
       "      <td>-457.0</td>\n",
       "      <td>-962.0</td>\n",
       "      <td>-861.0</td>\n",
       "    </tr>\n",
       "    <tr>\n",
       "      <th>496</th>\n",
       "      <td>2024-12-06 10:35:45</td>\n",
       "      <td>-1164</td>\n",
       "      <td>-659.0</td>\n",
       "      <td>-255.0</td>\n",
       "      <td>-659.0</td>\n",
       "      <td>-558.0</td>\n",
       "    </tr>\n",
       "    <tr>\n",
       "      <th>497</th>\n",
       "      <td>2024-12-06 10:29:46</td>\n",
       "      <td>-659</td>\n",
       "      <td>48.0</td>\n",
       "      <td>165.0</td>\n",
       "      <td>-1366.0</td>\n",
       "      <td>407.0</td>\n",
       "    </tr>\n",
       "    <tr>\n",
       "      <th>498</th>\n",
       "      <td>2024-12-06 10:35:42</td>\n",
       "      <td>-1063</td>\n",
       "      <td>48.0</td>\n",
       "      <td>-962.0</td>\n",
       "      <td>-1164.0</td>\n",
       "      <td>-457.0</td>\n",
       "    </tr>\n",
       "    <tr>\n",
       "      <th>499</th>\n",
       "      <td>2024-12-06 10:32:55</td>\n",
       "      <td>16</td>\n",
       "      <td>48.0</td>\n",
       "      <td>48.0</td>\n",
       "      <td>-356.0</td>\n",
       "      <td>367.0</td>\n",
       "    </tr>\n",
       "  </tbody>\n",
       "</table>\n",
       "<p>500 rows × 6 columns</p>\n",
       "</div>"
      ],
      "text/plain": [
       "                     Map  Random  MaxImmediateDistance   MCTS  QLearning  \\\n",
       "0    2024-12-06 10:31:09    -801                  78.0 -760.0     -760.0   \n",
       "1    2024-12-06 10:29:02   -1063                  48.0   48.0       48.0   \n",
       "2    2024-12-06 10:35:39   -1164               -1164.0    6.0     -962.0   \n",
       "3    2024-12-06 10:36:21      48                  48.0   48.0       48.0   \n",
       "4    2024-12-06 10:31:36    -356                  48.0 -457.0     -457.0   \n",
       "..                   ...     ...                   ...    ...        ...   \n",
       "495  2024-12-06 10:32:52    -659                  48.0 -457.0     -962.0   \n",
       "496  2024-12-06 10:35:45   -1164                -659.0 -255.0     -659.0   \n",
       "497  2024-12-06 10:29:46    -659                  48.0  165.0    -1366.0   \n",
       "498  2024-12-06 10:35:42   -1063                  48.0 -962.0    -1164.0   \n",
       "499  2024-12-06 10:32:55      16                  48.0   48.0     -356.0   \n",
       "\n",
       "        DQN  \n",
       "0       4.0  \n",
       "1    -659.0  \n",
       "2   -1154.0  \n",
       "3      48.0  \n",
       "4    -962.0  \n",
       "..      ...  \n",
       "495  -861.0  \n",
       "496  -558.0  \n",
       "497   407.0  \n",
       "498  -457.0  \n",
       "499   367.0  \n",
       "\n",
       "[500 rows x 6 columns]"
      ]
     },
     "execution_count": 10,
     "metadata": {},
     "output_type": "execute_result"
    }
   ],
   "source": [
    "results = pd.read_csv('results_60.csv')\n",
    "results"
   ]
  },
  {
   "cell_type": "code",
   "execution_count": 11,
   "metadata": {},
   "outputs": [
    {
     "data": {
      "text/plain": [
       "Random                 -404.518\n",
       "MaxImmediateDistance   -143.046\n",
       "MCTS                    -84.934\n",
       "QLearning              -432.814\n",
       "DQN                    -162.422\n",
       "dtype: float64"
      ]
     },
     "execution_count": 11,
     "metadata": {},
     "output_type": "execute_result"
    }
   ],
   "source": [
    "# Compute average value per column except for the Map column\n",
    "results[results.columns[1:]].mean()"
   ]
  },
  {
   "cell_type": "code",
   "execution_count": 12,
   "metadata": {},
   "outputs": [
    {
     "data": {
      "text/plain": [
       "Random                        -404.518\n",
       "MaxImmediateDistance          -143.046\n",
       "MCTS                           -84.934\n",
       "QLearning                     -432.814\n",
       "DQN                           -162.422\n",
       "MCTS-diff-with-random          319.584\n",
       "QLearning-diff-with-random     -28.296\n",
       "DQN-diff-with-random           242.096\n",
       "MCTS-diff-with-maxdist          58.112\n",
       "QLearning-diff-with-maxdist   -289.768\n",
       "DQN-diff-with-maxdist          -19.376\n",
       "dtype: float64"
      ]
     },
     "execution_count": 12,
     "metadata": {},
     "output_type": "execute_result"
    }
   ],
   "source": [
    "# Add column for difference with column 1\n",
    "results['MCTS-diff-with-random'] = results['MCTS'] - results['Random']\n",
    "results['QLearning-diff-with-random'] = results['QLearning'] - results['Random']\n",
    "results['DQN-diff-with-random'] = results['DQN'] - results['Random']\n",
    "\n",
    "# Add column for difference with column 2\n",
    "results['MCTS-diff-with-maxdist'] = results['MCTS'] - results['MaxImmediateDistance']\n",
    "results['QLearning-diff-with-maxdist'] = results['QLearning'] - results['MaxImmediateDistance']\n",
    "results['DQN-diff-with-maxdist'] = results['DQN'] - results['MaxImmediateDistance']\n",
    "results[results.columns[1:]].mean()"
   ]
  },
  {
   "cell_type": "code",
   "execution_count": 13,
   "metadata": {},
   "outputs": [
    {
     "name": "stdout",
     "output_type": "stream",
     "text": [
      "Proportion superior to Random\n",
      "Column: MaxImmediateDistance, Proportion: 0.826\n",
      "Column: MCTS, Proportion: 0.882\n",
      "Column: QLearning, Proportion: 0.6\n",
      "Column: DQN, Proportion: 0.796\n",
      "\n",
      "Proportion superior to MaxImmediateDistance\n",
      "Column: MCTS, Proportion: 0.74\n",
      "Column: QLearning, Proportion: 0.42\n",
      "Column: DQN, Proportion: 0.644\n"
     ]
    }
   ],
   "source": [
    "# For columns 2 to 5, compute the number of rows with value greater than the value in column 1\n",
    "print('Proportion superior to Random')\n",
    "for col in results.columns[2:6]:\n",
    "    print(f\"Column: {col}, Proportion: {(results[col] >= results['Random']).sum()/500}\")\n",
    "\n",
    "print('\\nProportion superior to MaxImmediateDistance')\n",
    "for col in results.columns[3:6]:\n",
    "    print(f\"Column: {col}, Proportion: {(results[col] >= results['MaxImmediateDistance']).sum()/500}\")"
   ]
  }
 ],
 "metadata": {
  "kernelspec": {
   "display_name": "aa228",
   "language": "python",
   "name": "python3"
  },
  "language_info": {
   "codemirror_mode": {
    "name": "ipython",
    "version": 3
   },
   "file_extension": ".py",
   "mimetype": "text/x-python",
   "name": "python",
   "nbconvert_exporter": "python",
   "pygments_lexer": "ipython3",
   "version": "3.12.7"
  }
 },
 "nbformat": 4,
 "nbformat_minor": 2
}
