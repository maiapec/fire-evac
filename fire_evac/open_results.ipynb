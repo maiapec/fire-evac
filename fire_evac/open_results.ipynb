{
 "cells": [
  {
   "cell_type": "code",
   "execution_count": 2,
   "metadata": {},
   "outputs": [],
   "source": [
    "import pandas as pd"
   ]
  },
  {
   "cell_type": "code",
   "execution_count": 3,
   "metadata": {},
   "outputs": [
    {
     "data": {
      "text/html": [
       "<div>\n",
       "<style scoped>\n",
       "    .dataframe tbody tr th:only-of-type {\n",
       "        vertical-align: middle;\n",
       "    }\n",
       "\n",
       "    .dataframe tbody tr th {\n",
       "        vertical-align: top;\n",
       "    }\n",
       "\n",
       "    .dataframe thead th {\n",
       "        text-align: right;\n",
       "    }\n",
       "</style>\n",
       "<table border=\"1\" class=\"dataframe\">\n",
       "  <thead>\n",
       "    <tr style=\"text-align: right;\">\n",
       "      <th></th>\n",
       "      <th>Map</th>\n",
       "      <th>Random</th>\n",
       "      <th>MaxImmediateDistance</th>\n",
       "      <th>MCTS</th>\n",
       "      <th>QLearning</th>\n",
       "      <th>DQN</th>\n",
       "    </tr>\n",
       "  </thead>\n",
       "  <tbody>\n",
       "    <tr>\n",
       "      <th>0</th>\n",
       "      <td>2024-12-05 21:51:12</td>\n",
       "      <td>-76</td>\n",
       "      <td>-65.0</td>\n",
       "      <td>136.0</td>\n",
       "      <td>46.0</td>\n",
       "      <td>-489.0</td>\n",
       "    </tr>\n",
       "    <tr>\n",
       "      <th>1</th>\n",
       "      <td>2024-12-05 21:56:05</td>\n",
       "      <td>16</td>\n",
       "      <td>-590.0</td>\n",
       "      <td>-55.0</td>\n",
       "      <td>-287.0</td>\n",
       "      <td>-590.0</td>\n",
       "    </tr>\n",
       "    <tr>\n",
       "      <th>2</th>\n",
       "      <td>2024-12-05 22:02:26</td>\n",
       "      <td>16</td>\n",
       "      <td>16.0</td>\n",
       "      <td>16.0</td>\n",
       "      <td>16.0</td>\n",
       "      <td>16.0</td>\n",
       "    </tr>\n",
       "    <tr>\n",
       "      <th>3</th>\n",
       "      <td>2024-12-05 21:52:35</td>\n",
       "      <td>56</td>\n",
       "      <td>16.0</td>\n",
       "      <td>65.0</td>\n",
       "      <td>-26.0</td>\n",
       "      <td>16.0</td>\n",
       "    </tr>\n",
       "    <tr>\n",
       "      <th>4</th>\n",
       "      <td>2024-12-05 21:55:22</td>\n",
       "      <td>96</td>\n",
       "      <td>46.0</td>\n",
       "      <td>136.0</td>\n",
       "      <td>26.0</td>\n",
       "      <td>166.0</td>\n",
       "    </tr>\n",
       "    <tr>\n",
       "      <th>...</th>\n",
       "      <td>...</td>\n",
       "      <td>...</td>\n",
       "      <td>...</td>\n",
       "      <td>...</td>\n",
       "      <td>...</td>\n",
       "      <td>...</td>\n",
       "    </tr>\n",
       "    <tr>\n",
       "      <th>495</th>\n",
       "      <td>2024-12-05 22:01:23</td>\n",
       "      <td>86</td>\n",
       "      <td>16.0</td>\n",
       "      <td>176.0</td>\n",
       "      <td>16.0</td>\n",
       "      <td>176.0</td>\n",
       "    </tr>\n",
       "    <tr>\n",
       "      <th>496</th>\n",
       "      <td>2024-12-05 21:55:00</td>\n",
       "      <td>-186</td>\n",
       "      <td>16.0</td>\n",
       "      <td>16.0</td>\n",
       "      <td>16.0</td>\n",
       "      <td>116.0</td>\n",
       "    </tr>\n",
       "    <tr>\n",
       "      <th>497</th>\n",
       "      <td>2024-12-05 21:52:17</td>\n",
       "      <td>16</td>\n",
       "      <td>16.0</td>\n",
       "      <td>16.0</td>\n",
       "      <td>16.0</td>\n",
       "      <td>16.0</td>\n",
       "    </tr>\n",
       "    <tr>\n",
       "      <th>498</th>\n",
       "      <td>2024-12-05 22:01:58</td>\n",
       "      <td>36</td>\n",
       "      <td>36.0</td>\n",
       "      <td>176.0</td>\n",
       "      <td>-308.0</td>\n",
       "      <td>-85.0</td>\n",
       "    </tr>\n",
       "    <tr>\n",
       "      <th>499</th>\n",
       "      <td>2024-12-05 21:49:40</td>\n",
       "      <td>-691</td>\n",
       "      <td>46.0</td>\n",
       "      <td>176.0</td>\n",
       "      <td>-287.0</td>\n",
       "      <td>75.0</td>\n",
       "    </tr>\n",
       "  </tbody>\n",
       "</table>\n",
       "<p>500 rows × 6 columns</p>\n",
       "</div>"
      ],
      "text/plain": [
       "                     Map  Random  MaxImmediateDistance   MCTS  QLearning  \\\n",
       "0    2024-12-05 21:51:12     -76                 -65.0  136.0       46.0   \n",
       "1    2024-12-05 21:56:05      16                -590.0  -55.0     -287.0   \n",
       "2    2024-12-05 22:02:26      16                  16.0   16.0       16.0   \n",
       "3    2024-12-05 21:52:35      56                  16.0   65.0      -26.0   \n",
       "4    2024-12-05 21:55:22      96                  46.0  136.0       26.0   \n",
       "..                   ...     ...                   ...    ...        ...   \n",
       "495  2024-12-05 22:01:23      86                  16.0  176.0       16.0   \n",
       "496  2024-12-05 21:55:00    -186                  16.0   16.0       16.0   \n",
       "497  2024-12-05 21:52:17      16                  16.0   16.0       16.0   \n",
       "498  2024-12-05 22:01:58      36                  36.0  176.0     -308.0   \n",
       "499  2024-12-05 21:49:40    -691                  46.0  176.0     -287.0   \n",
       "\n",
       "       DQN  \n",
       "0   -489.0  \n",
       "1   -590.0  \n",
       "2     16.0  \n",
       "3     16.0  \n",
       "4    166.0  \n",
       "..     ...  \n",
       "495  176.0  \n",
       "496  116.0  \n",
       "497   16.0  \n",
       "498  -85.0  \n",
       "499   75.0  \n",
       "\n",
       "[500 rows x 6 columns]"
      ]
     },
     "execution_count": 3,
     "metadata": {},
     "output_type": "execute_result"
    }
   ],
   "source": [
    "results = pd.read_csv('results_20.csv')\n",
    "results"
   ]
  },
  {
   "cell_type": "code",
   "execution_count": 12,
   "metadata": {},
   "outputs": [
    {
     "data": {
      "text/plain": [
       "Random                 -113.300\n",
       "MaxImmediateDistance    -39.740\n",
       "MCTS                      7.774\n",
       "QLearning              -166.662\n",
       "DQN                     -25.530\n",
       "dtype: float64"
      ]
     },
     "execution_count": 12,
     "metadata": {},
     "output_type": "execute_result"
    }
   ],
   "source": [
    "# Compute average value per column except for the Map column\n",
    "results[results.columns[1:]].mean()"
   ]
  },
  {
   "cell_type": "code",
   "execution_count": 28,
   "metadata": {},
   "outputs": [
    {
     "data": {
      "text/plain": [
       "Random                       -113.300\n",
       "MaxImmediateDistance          -39.740\n",
       "MCTS                            7.774\n",
       "QLearning                    -166.662\n",
       "DQN                           -25.530\n",
       "MCTS-diff-with-random         121.074\n",
       "QLearning-diff-with-random    -53.362\n",
       "DQN-diff-with-random           87.770\n",
       "dtype: float64"
      ]
     },
     "execution_count": 28,
     "metadata": {},
     "output_type": "execute_result"
    }
   ],
   "source": [
    "# Add column for difference with column 1\n",
    "results['MCTS-diff-with-random'] = results['MCTS'] - results['Random']\n",
    "results['QLearning-diff-with-random'] = results['QLearning'] - results['Random']\n",
    "results['DQN-diff-with-random'] = results['DQN'] - results['Random']\n",
    "results[results.columns[1:]].mean()"
   ]
  },
  {
   "cell_type": "code",
   "execution_count": 31,
   "metadata": {},
   "outputs": [
    {
     "name": "stdout",
     "output_type": "stream",
     "text": [
      "Proportion superior to Random\n",
      "Column: MaxImmediateDistance, Proportion: 0.716\n",
      "Column: MCTS, Proportion: 0.846\n",
      "Column: QLearning, Proportion: 0.544\n",
      "Column: DQN, Proportion: 0.742\n",
      "\n",
      "Proportion superior to MaxImmediateDistance\n",
      "Column: MCTS, Proportion: 0.806\n",
      "Column: QLearning, Proportion: 0.568\n",
      "Column: DQN, Proportion: 0.748\n"
     ]
    }
   ],
   "source": [
    "# For columns 2 to 5, compute the number of rows with value greater than the value in column 1\n",
    "print('Proportion superior to Random')\n",
    "for col in results.columns[2:6]:\n",
    "    print(f\"Column: {col}, Proportion: {(results[col] >= results['Random']).sum()/500}\")\n",
    "\n",
    "print('\\nProportion superior to MaxImmediateDistance')\n",
    "for col in results.columns[3:6]:\n",
    "    print(f\"Column: {col}, Proportion: {(results[col] >= results['MaxImmediateDistance']).sum()/500}\")"
   ]
  },
  {
   "cell_type": "code",
   "execution_count": null,
   "metadata": {},
   "outputs": [],
   "source": []
  }
 ],
 "metadata": {
  "kernelspec": {
   "display_name": "aa228",
   "language": "python",
   "name": "python3"
  },
  "language_info": {
   "codemirror_mode": {
    "name": "ipython",
    "version": 3
   },
   "file_extension": ".py",
   "mimetype": "text/x-python",
   "name": "python",
   "nbconvert_exporter": "python",
   "pygments_lexer": "ipython3",
   "version": "3.12.7"
  }
 },
 "nbformat": 4,
 "nbformat_minor": 2
}
